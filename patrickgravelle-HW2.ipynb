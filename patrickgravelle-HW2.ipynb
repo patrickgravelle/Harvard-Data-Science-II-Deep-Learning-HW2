{
 "cells": [
  {
   "cell_type": "markdown",
   "metadata": {},
   "source": [
    "## Homework #2: Convolutional Neural Networks\n",
    "Due Monday, April 29th by 11:59pm\n",
    "\n",
    "Name: Patrick Gravelle\n"
   ]
  },
  {
   "cell_type": "markdown",
   "metadata": {},
   "source": [
    "### Question 1\n",
    "(a) You have an input volume that is 15x15x8 and pad it using *p = 2*. What is the dimension of the resulting volume?\n",
    "\n",
    "Your answer: The resulting volume dimension is 19x19x8.\n"
   ]
  },
  {
   "cell_type": "markdown",
   "metadata": {},
   "source": [
    "(b) You have an input volume that is 32x32x16 and apply max pooling with a stride of 2 and a filter of size of 2x2. What is the output volume?\n",
    "\n",
    "Your answer: Output volume is 16x16x16.\n"
   ]
  },
  {
   "cell_type": "markdown",
   "metadata": {},
   "source": [
    "(c) You have an input volume that is 63x63x16 and convolve it with 32 filters that are each 7x7, and a stride of 1. You want to use a \"same\" convolution. What is the padding *p*?\n",
    "\n",
    "Your answer: The padding is 3.\n"
   ]
  },
  {
   "cell_type": "markdown",
   "metadata": {},
   "source": [
    "(d) You have an input volume that is 63x63x16 and convolve it with 32 filters that are each 7x7, using a stride of 2 and no padding. What is the output volume?\n",
    "\n",
    "Your answer: Output volume is 29x29x32.\n"
   ]
  },
  {
   "cell_type": "markdown",
   "metadata": {},
   "source": [
    "### Question 2: Classification of Chest X-rays\n",
    "Chest X-ray exams are one of the most frequent and cost-effective medical imaging examinations available. However, clinical diagnosis of a chest X-ray can be challenging and sometimes more difficult than diagnosis via chest CT imaging. The lack of large publicly available datasets with annotations means it is still very difficult, if not impossible, to achieve clinically relevant computer-aided detection and diagnosis (CAD) in real world medical sites with chest X-rays. One major hurdle in creating large X-ray image datasets is the lack resources for labeling so many images. Prior to the release of this dataset, Openi was the largest publicly available source of chest X-ray images with 4,143 images available.\n",
    "\n",
    "This NIH Chest X-ray Dataset is comprised of 112,120 X-ray images with disease labels from 30,805 unique patients. To create these labels, the authors used Natural Language Processing to text-mine disease classifications from the associated radiological reports. The labels are expected to be >90% accurate and suitable for weakly-supervised learning. The original radiology reports are not publicly available but you can find more details on the labeling process in this Open Access paper: \"ChestX-ray8: Hospital-scale Chest X-ray Database and Benchmarks on Weakly-Supervised Classification and Localization of Common Thorax Diseases.\" (Wang et al.)\n",
    "\n",
    "Here we will use a subset of the data, rather than all 112,120 images. The images have been split into training, validation and test sets, each with folders containing the images for a particular diagnosis (class). The full data set contains images with single labels and multi-lables, with a total of 15 unique diagnoses. Our subsample contains only single label images with a total of 7 diagnoses: atelectasis, effusion, infiltration, mass, nodule, none (no finding), and pneumothorax. Your task is to classify the images correctly by building multiple CNNs and comparing their performance.\n",
    "\n",
    "Here are what a few of the X-rays look like:\n",
    "\n",
    "<img src=\"chest_xrays.jpg\" width=\"500\">"
   ]
  },
  {
   "cell_type": "code",
   "execution_count": 14,
   "metadata": {},
   "outputs": [
    {
     "name": "stdout",
     "output_type": "stream",
     "text": [
      "/Users/patrick/Documents/Harvard/Harvard-1st-Year/Spring 2019/Bst 261/hw2\r\n"
     ]
    }
   ],
   "source": [
    "import sys\n",
    "if not sys.warnoptions:\n",
    "    import warnings\n",
    "    warnings.simplefilter(\"ignore\")\n",
    "import keras\n",
    "keras.__version__\n",
    "import numpy as np\n",
    "import os, shutil\n",
    "\n",
    "!pwd\n",
    "#import cv"
   ]
  },
  {
   "cell_type": "markdown",
   "metadata": {},
   "source": [
    "### Load the data\n",
    "\n",
    "The data are available on Dropbox and can be accessed [here](https://www.dropbox.com/sh/k23tp1a0um8u2xv/AACDoV9K9BJdU5ObjBw0mmwSa?dl=0). Be sure to unzip the folders before running the code below.\n",
    "\n",
    "Load the data and print the number of training, validation and test set examples there are of each class. Be sure to change the directory path provided below to your own data path."
   ]
  },
  {
   "cell_type": "code",
   "execution_count": 15,
   "metadata": {},
   "outputs": [],
   "source": [
    "base_dir = '/Users/patrick/Documents/Harvard/Harvard-1st-Year/Spring 2019/Bst 261/hw2/Chest X-rays Data' # change this path\n",
    "\n",
    "train_dir = os.path.join(base_dir, 'train_dir')\n",
    "validation_dir = os.path.join(base_dir, 'validation_dir')\n",
    "test_dir = os.path.join(base_dir, 'test_dir')\n",
    "\n",
    "# Training Data\n",
    "train_atelectasis  = os.path.join(train_dir, 'atelectasis')\n",
    "train_effusion     = os.path.join(train_dir, 'effusion')\n",
    "train_infiltration = os.path.join(train_dir, 'infiltration')\n",
    "train_mass         = os.path.join(train_dir, 'mass')\n",
    "train_nodule       = os.path.join(train_dir, 'nodule')\n",
    "train_none         = os.path.join(train_dir, 'none')\n",
    "train_pneumothorax = os.path.join(train_dir, 'pneumothorax')\n",
    "\n",
    "# Validation Data\n",
    "val_atelectasis  = os.path.join(validation_dir, 'atelectasis')\n",
    "val_effusion     = os.path.join(validation_dir, 'effusion')\n",
    "val_infiltration = os.path.join(validation_dir, 'infiltration')\n",
    "val_mass         = os.path.join(validation_dir, 'mass')\n",
    "val_nodule       = os.path.join(validation_dir, 'nodule')\n",
    "val_none         = os.path.join(validation_dir, 'none')\n",
    "val_pneumothorax = os.path.join(validation_dir, 'pneumothorax')\n",
    "\n",
    "# Test Data\n",
    "test_atelectasis  = os.path.join(test_dir, 'atelectasis')\n",
    "test_effusion     = os.path.join(test_dir, 'effusion')\n",
    "test_infiltration = os.path.join(test_dir, 'infiltration')\n",
    "test_mass         = os.path.join(test_dir, 'mass')\n",
    "test_nodule       = os.path.join(test_dir, 'nodule')\n",
    "test_none         = os.path.join(test_dir, 'none')\n",
    "test_pneumothorax = os.path.join(test_dir, 'pneumothorax')"
   ]
  },
  {
   "cell_type": "code",
   "execution_count": 16,
   "metadata": {
    "scrolled": true
   },
   "outputs": [
    {
     "name": "stdout",
     "output_type": "stream",
     "text": [
      "Total training atelectasisat images: 400\n",
      "Total training effusion images: 400\n",
      "Total training infiltration images: 400\n",
      "Total training mass images: 200\n",
      "Total training nodule images: 300\n",
      "Total training no finding images: 400\n",
      "Total training pneumothorax images: 300\n"
     ]
    }
   ],
   "source": [
    "print('Total training atelectasisat images:', len(os.listdir(train_atelectasis)))\n",
    "print('Total training effusion images:', len(os.listdir(train_effusion)))\n",
    "print('Total training infiltration images:', len(os.listdir(train_infiltration)))\n",
    "print('Total training mass images:', len(os.listdir(train_mass)))\n",
    "print('Total training nodule images:', len(os.listdir(train_nodule)))\n",
    "print('Total training no finding images:', len(os.listdir(train_none)))\n",
    "print('Total training pneumothorax images:', len(os.listdir(train_pneumothorax)))"
   ]
  },
  {
   "cell_type": "code",
   "execution_count": 5,
   "metadata": {},
   "outputs": [
    {
     "name": "stdout",
     "output_type": "stream",
     "text": [
      "Total validation atelectasisat images: 100\n",
      "Total validation effusion images: 100\n",
      "Total validation infiltration images: 100\n",
      "Total validation mass images: 55\n",
      "Total validation nodule images: 70\n",
      "Total validation no finding images: 100\n",
      "Total validation pneumothorax images: 70\n"
     ]
    }
   ],
   "source": [
    "print('Total validation atelectasisat images:', len(os.listdir(val_atelectasis)))\n",
    "print('Total validation effusion images:', len(os.listdir(val_effusion)))\n",
    "print('Total validation infiltration images:', len(os.listdir(val_infiltration)))\n",
    "print('Total validation mass images:', len(os.listdir(val_mass)))\n",
    "print('Total validation nodule images:', len(os.listdir(val_nodule)))\n",
    "print('Total validation no finding images:', len(os.listdir(val_none)))\n",
    "print('Total validation pneumothorax images:', len(os.listdir(val_pneumothorax)))"
   ]
  },
  {
   "cell_type": "code",
   "execution_count": 6,
   "metadata": {},
   "outputs": [
    {
     "name": "stdout",
     "output_type": "stream",
     "text": [
      "Total test atelectasisat images: 100\n",
      "Total test effusion images: 100\n",
      "Total test infiltration images: 100\n",
      "Total test mass images: 55\n",
      "Total test nodule images: 70\n",
      "Total test no finding images: 100\n",
      "Total test pneumothorax images: 70\n"
     ]
    }
   ],
   "source": [
    "print('Total test atelectasisat images:', len(os.listdir(test_atelectasis)))\n",
    "print('Total test effusion images:', len(os.listdir(test_effusion)))\n",
    "print('Total test infiltration images:', len(os.listdir(test_infiltration)))\n",
    "print('Total test mass images:', len(os.listdir(test_mass)))\n",
    "print('Total test nodule images:', len(os.listdir(test_nodule)))\n",
    "print('Total test no finding images:', len(os.listdir(test_none)))\n",
    "print('Total test pneumothorax images:', len(os.listdir(test_pneumothorax)))"
   ]
  },
  {
   "cell_type": "markdown",
   "metadata": {},
   "source": [
    "### A. Build a CNN from scratch\n",
    "Build a shallow (2-4 convolution layers) CNN. You are free to choose any values you wish for the filter size(s), pooling window size(s), and activation function(s). Please use an input shape of `(150, 150, 3)`. Include a dense layer on top along with an appropriate output layer (number of neurons and activation function). Be sure to also include the `model.compile` function with an appropriate choice of loss function and performance metric."
   ]
  },
  {
   "cell_type": "code",
   "execution_count": 29,
   "metadata": {},
   "outputs": [
    {
     "name": "stdout",
     "output_type": "stream",
     "text": [
      "Requirement already satisfied: kerutils in /Library/Frameworks/Python.framework/Versions/3.6/lib/python3.6/site-packages\n",
      "Requirement already satisfied: keras in /Library/Frameworks/Python.framework/Versions/3.6/lib/python3.6/site-packages (from kerutils)\n",
      "Requirement already satisfied: ezprogbar in /Library/Frameworks/Python.framework/Versions/3.6/lib/python3.6/site-packages (from kerutils)\n",
      "Requirement already satisfied: numpy in /Library/Frameworks/Python.framework/Versions/3.6/lib/python3.6/site-packages (from kerutils)\n",
      "Requirement already satisfied: scipy in /Library/Frameworks/Python.framework/Versions/3.6/lib/python3.6/site-packages (from kerutils)\n",
      "Requirement already satisfied: matplotlib in /Library/Frameworks/Python.framework/Versions/3.6/lib/python3.6/site-packages (from kerutils)\n",
      "Requirement already satisfied: h5py in /Library/Frameworks/Python.framework/Versions/3.6/lib/python3.6/site-packages (from kerutils)\n",
      "Requirement already satisfied: six>=1.9.0 in /Library/Frameworks/Python.framework/Versions/3.6/lib/python3.6/site-packages (from keras->kerutils)\n",
      "Requirement already satisfied: keras-preprocessing>=1.0.5 in /Library/Frameworks/Python.framework/Versions/3.6/lib/python3.6/site-packages (from keras->kerutils)\n",
      "Requirement already satisfied: pyyaml in /Library/Frameworks/Python.framework/Versions/3.6/lib/python3.6/site-packages (from keras->kerutils)\n",
      "Requirement already satisfied: keras-applications>=1.0.6 in /Library/Frameworks/Python.framework/Versions/3.6/lib/python3.6/site-packages (from keras->kerutils)\n",
      "Requirement already satisfied: pyparsing!=2.0.4,!=2.1.2,!=2.1.6,>=2.0.1 in /Library/Frameworks/Python.framework/Versions/3.6/lib/python3.6/site-packages (from matplotlib->kerutils)\n",
      "Requirement already satisfied: python-dateutil>=2.1 in /Library/Frameworks/Python.framework/Versions/3.6/lib/python3.6/site-packages (from matplotlib->kerutils)\n",
      "Requirement already satisfied: kiwisolver>=1.0.1 in /Library/Frameworks/Python.framework/Versions/3.6/lib/python3.6/site-packages (from matplotlib->kerutils)\n",
      "Requirement already satisfied: cycler>=0.10 in /Library/Frameworks/Python.framework/Versions/3.6/lib/python3.6/site-packages (from matplotlib->kerutils)\n",
      "Requirement already satisfied: setuptools in /Library/Frameworks/Python.framework/Versions/3.6/lib/python3.6/site-packages (from kiwisolver>=1.0.1->matplotlib->kerutils)\n",
      "\u001b[33mYou are using pip version 9.0.1, however version 19.0.3 is available.\n",
      "You should consider upgrading via the 'pip install --upgrade pip' command.\u001b[0m\n",
      "Collecting pip\n",
      "\u001b[?25l  Downloading https://files.pythonhosted.org/packages/d8/f3/413bab4ff08e1fc4828dfc59996d721917df8e8583ea85385d51125dceff/pip-19.0.3-py2.py3-none-any.whl (1.4MB)\n",
      "\u001b[K    100% |████████████████████████████████| 1.4MB 9.0MB/s eta 0:00:01\n",
      "\u001b[?25hInstalling collected packages: pip\n",
      "  Found existing installation: pip 18.1\n",
      "    Uninstalling pip-18.1:\n",
      "      Successfully uninstalled pip-18.1\n",
      "Successfully installed pip-19.0.3\n"
     ]
    }
   ],
   "source": [
    "!pip3 install kerutils\n",
    "!pip install --upgrade pip"
   ]
  },
  {
   "cell_type": "code",
   "execution_count": 7,
   "metadata": {},
   "outputs": [],
   "source": [
    "from keras import layers\n",
    "from keras import models\n",
    "from keras import optimizers\n",
    "from keras.datasets import cifar10\n",
    "from keras.preprocessing.image import ImageDataGenerator\n",
    "from keras.models import Sequential, load_model\n",
    "from keras.layers import Dense, Dropout, Activation, Flatten\n",
    "from keras.layers import Convolution2D, MaxPooling2D\n",
    "from keras.optimizers import SGD\n",
    "from keras.constraints import maxnorm\n",
    "from keras.utils import np_utils\n",
    "from keras.layers.noise import GaussianNoise\n",
    "from keras.utils.vis_utils import plot_model\n",
    "import pandas as pd\n",
    "import matplotlib.pyplot as plt\n",
    "import time, pickle\n",
    "%matplotlib inline"
   ]
  },
  {
   "cell_type": "code",
   "execution_count": 10,
   "metadata": {},
   "outputs": [
    {
     "name": "stdout",
     "output_type": "stream",
     "text": [
      "_________________________________________________________________\n",
      "Layer (type)                 Output Shape              Param #   \n",
      "=================================================================\n",
      "conv2d_5 (Conv2D)            (None, 148, 148, 32)      896       \n",
      "_________________________________________________________________\n",
      "dropout_5 (Dropout)          (None, 148, 148, 32)      0         \n",
      "_________________________________________________________________\n",
      "conv2d_6 (Conv2D)            (None, 146, 146, 8)       2312      \n",
      "_________________________________________________________________\n",
      "max_pooling2d_3 (MaxPooling2 (None, 73, 73, 8)         0         \n",
      "_________________________________________________________________\n",
      "flatten_3 (Flatten)          (None, 42632)             0         \n",
      "_________________________________________________________________\n",
      "dense_5 (Dense)              (None, 128)               5457024   \n",
      "_________________________________________________________________\n",
      "dropout_6 (Dropout)          (None, 128)               0         \n",
      "_________________________________________________________________\n",
      "dense_6 (Dense)              (None, 7)                 903       \n",
      "=================================================================\n",
      "Total params: 5,461,135\n",
      "Trainable params: 5,461,135\n",
      "Non-trainable params: 0\n",
      "_________________________________________________________________\n"
     ]
    }
   ],
   "source": [
    "nb_epoch = 30\n",
    "batch_size = 32\n",
    "model1 = models.Sequential()\n",
    "model1.add(layers.Convolution2D(32, 3, 3, input_shape=(150, 150, 3), activation='relu'))\n",
    "model1.add(layers.Dropout(0.2))\n",
    "model1.add(layers.Convolution2D(8, 3, 3, activation='relu'))\n",
    "model1.add(layers.MaxPooling2D(pool_size=(2, 2)))\n",
    "model1.add(layers.Flatten())\n",
    "model1.add(layers.Dense(128, activation='relu'))\n",
    "model1.add(layers.Dropout(0.5))\n",
    "model1.add(layers.Dense(7, activation='softmax'))\n",
    "# Compile model\n",
    "model1.compile(loss='categorical_crossentropy', optimizer=keras.optimizers.rmsprop(), metrics=['accuracy'])\n",
    "model1.summary()"
   ]
  },
  {
   "cell_type": "markdown",
   "metadata": {},
   "source": [
    "#### Define the image generator\n",
    "Using the `ImageDataGenerator` function, create `train_datagen` and `test_datagen` generators that rescale the images appropriately. Then define a training set generator and validation set generator using the generators `train_datagen` and `test_datagen` and the `.flow_from_directory` function. Specify the `target_size` (it should match the input size above), set the `batch_size` to 20 and choose an appropriate `class_mode`.\""
   ]
  },
  {
   "cell_type": "code",
   "execution_count": 11,
   "metadata": {},
   "outputs": [
    {
     "name": "stdout",
     "output_type": "stream",
     "text": [
      "Found 2400 images belonging to 7 classes.\n",
      "Found 595 images belonging to 7 classes.\n"
     ]
    }
   ],
   "source": [
    "from keras.preprocessing.image import ImageDataGenerator\n",
    "import math\n",
    "\n",
    "train_datagen = ImageDataGenerator(rescale=1./255)\n",
    "test_datagen = ImageDataGenerator(rescale=1./255)\n",
    "# Creating the training generator\n",
    "train_generator = train_datagen.flow_from_directory(train_dir,\n",
    "                                                   target_size = (150,150),\n",
    "                                                   batch_size = 20,\n",
    "                                                   class_mode = 'categorical')\n",
    "# Creating the validation generator\n",
    "validation_generator = test_datagen.flow_from_directory(validation_dir,\n",
    "                                                       target_size = (150,150),\n",
    "                                                       batch_size = 20,\n",
    "                                                       class_mode = 'categorical')"
   ]
  },
  {
   "cell_type": "markdown",
   "metadata": {},
   "source": [
    "Use this code chunck to view the shapes of one batch of your training images and labels."
   ]
  },
  {
   "cell_type": "code",
   "execution_count": 12,
   "metadata": {},
   "outputs": [
    {
     "name": "stdout",
     "output_type": "stream",
     "text": [
      "data batch shape: (20, 150, 150, 3)\n",
      "labels batch shape: (20, 7)\n"
     ]
    }
   ],
   "source": [
    "for data_batch, labels_batch in train_generator:\n",
    "    print('data batch shape:', data_batch.shape)\n",
    "    print('labels batch shape:', labels_batch.shape)\n",
    "    break"
   ]
  },
  {
   "cell_type": "markdown",
   "metadata": {},
   "source": [
    "#### Compile your model\n",
    "Be sure to choose appropriate numbers for the `steps_per_epoch` and `validation_steps` parameters. If one of the numbers is not a multiple of the batch size, round up to the nearest integer. Run this model for 30 epochs. Be sure to save your trained model."
   ]
  },
  {
   "cell_type": "code",
   "execution_count": 17,
   "metadata": {},
   "outputs": [
    {
     "name": "stdout",
     "output_type": "stream",
     "text": [
      "Epoch 1/30\n",
      "120/120 [==============================] - 433s 4s/step - loss: 1.8114 - acc: 0.3029 - val_loss: 1.9942 - val_acc: 0.1513\n",
      "Epoch 2/30\n",
      "120/120 [==============================] - 146s 1s/step - loss: 1.6854 - acc: 0.3517 - val_loss: 2.0567 - val_acc: 0.1966\n",
      "Epoch 3/30\n",
      "120/120 [==============================] - 141s 1s/step - loss: 1.5152 - acc: 0.4529 - val_loss: 2.2310 - val_acc: 0.1630\n",
      "Epoch 4/30\n",
      "120/120 [==============================] - 140s 1s/step - loss: 1.3002 - acc: 0.5271 - val_loss: 2.2987 - val_acc: 0.1782\n",
      "Epoch 5/30\n",
      "120/120 [==============================] - 141s 1s/step - loss: 1.0597 - acc: 0.6237 - val_loss: 2.5794 - val_acc: 0.1681\n",
      "Epoch 6/30\n",
      "120/120 [==============================] - 141s 1s/step - loss: 0.8581 - acc: 0.7050 - val_loss: 2.9259 - val_acc: 0.1664\n",
      "Epoch 7/30\n",
      "120/120 [==============================] - 142s 1s/step - loss: 0.6659 - acc: 0.7729 - val_loss: 3.2639 - val_acc: 0.1866\n",
      "Epoch 8/30\n",
      "120/120 [==============================] - 138s 1s/step - loss: 0.5270 - acc: 0.8187 - val_loss: 3.6321 - val_acc: 0.1748\n",
      "Epoch 9/30\n",
      "120/120 [==============================] - 156s 1s/step - loss: 0.3861 - acc: 0.8712 - val_loss: 3.8853 - val_acc: 0.1697\n",
      "Epoch 10/30\n",
      "120/120 [==============================] - 140s 1s/step - loss: 0.3093 - acc: 0.9008 - val_loss: 5.0520 - val_acc: 0.1597\n",
      "Epoch 11/30\n",
      "120/120 [==============================] - 141s 1s/step - loss: 0.2461 - acc: 0.9212 - val_loss: 4.8572 - val_acc: 0.1714\n",
      "Epoch 12/30\n",
      "120/120 [==============================] - 139s 1s/step - loss: 0.1898 - acc: 0.9446 - val_loss: 6.0205 - val_acc: 0.1563\n",
      "Epoch 13/30\n",
      "120/120 [==============================] - 136s 1s/step - loss: 0.1612 - acc: 0.9471 - val_loss: 5.5849 - val_acc: 0.1899\n",
      "Epoch 14/30\n",
      "120/120 [==============================] - 137s 1s/step - loss: 0.1279 - acc: 0.9650 - val_loss: 6.3335 - val_acc: 0.1445\n",
      "Epoch 15/30\n",
      "120/120 [==============================] - 138s 1s/step - loss: 0.1309 - acc: 0.9592 - val_loss: 6.5903 - val_acc: 0.1748\n",
      "Epoch 16/30\n",
      "120/120 [==============================] - 138s 1s/step - loss: 0.0946 - acc: 0.9750 - val_loss: 6.5303 - val_acc: 0.1748\n",
      "Epoch 17/30\n",
      "120/120 [==============================] - 139s 1s/step - loss: 0.1008 - acc: 0.9758 - val_loss: 6.8180 - val_acc: 0.1866\n",
      "Epoch 18/30\n",
      "120/120 [==============================] - 139s 1s/step - loss: 0.0871 - acc: 0.9771 - val_loss: 7.3262 - val_acc: 0.1832\n",
      "Epoch 19/30\n",
      "120/120 [==============================] - 138s 1s/step - loss: 0.0829 - acc: 0.9812 - val_loss: 7.3377 - val_acc: 0.1681\n",
      "Epoch 20/30\n",
      "120/120 [==============================] - 165s 1s/step - loss: 0.0550 - acc: 0.9825 - val_loss: 7.7436 - val_acc: 0.1647\n",
      "Epoch 21/30\n",
      "120/120 [==============================] - 137s 1s/step - loss: 0.0586 - acc: 0.9821 - val_loss: 7.8431 - val_acc: 0.1933\n",
      "Epoch 22/30\n",
      "120/120 [==============================] - 137s 1s/step - loss: 0.0447 - acc: 0.9887 - val_loss: 7.2624 - val_acc: 0.1798\n",
      "Epoch 23/30\n",
      "120/120 [==============================] - 139s 1s/step - loss: 0.0469 - acc: 0.9867 - val_loss: 7.9861 - val_acc: 0.2101\n",
      "Epoch 24/30\n",
      "120/120 [==============================] - 141s 1s/step - loss: 0.0542 - acc: 0.9879 - val_loss: 8.1619 - val_acc: 0.1782\n",
      "Epoch 25/30\n",
      "120/120 [==============================] - 164s 1s/step - loss: 0.0675 - acc: 0.9842 - val_loss: 8.0638 - val_acc: 0.1546\n",
      "Epoch 26/30\n",
      "120/120 [==============================] - 152s 1s/step - loss: 0.0539 - acc: 0.9875 - val_loss: 7.4292 - val_acc: 0.1714\n",
      "Epoch 27/30\n",
      "120/120 [==============================] - 177s 1s/step - loss: 0.0451 - acc: 0.9900 - val_loss: 8.6158 - val_acc: 0.1630\n",
      "Epoch 28/30\n",
      "120/120 [==============================] - 217s 2s/step - loss: 0.0380 - acc: 0.9896 - val_loss: 8.4883 - val_acc: 0.1798\n",
      "Epoch 29/30\n",
      "120/120 [==============================] - 155s 1s/step - loss: 0.0521 - acc: 0.9883 - val_loss: 7.6386 - val_acc: 0.1832\n",
      "Epoch 30/30\n",
      "120/120 [==============================] - 143s 1s/step - loss: 0.0347 - acc: 0.9912 - val_loss: 8.3312 - val_acc: 0.1681\n"
     ]
    }
   ],
   "source": [
    "# We have 2400 training examples divided by 20 batch size which gives us 120 steps per epoch\n",
    "# We have 595 validation examples divided by 20 batch size which gives us 29.75 validation steps so we round to 30\n",
    "history = model1.fit_generator(train_generator,\n",
    "                             steps_per_epoch = 120,\n",
    "                             epochs = 30,\n",
    "                             validation_data = validation_generator,\n",
    "                             validation_steps = 30)"
   ]
  },
  {
   "cell_type": "code",
   "execution_count": 18,
   "metadata": {},
   "outputs": [],
   "source": [
    "# Save your model\n",
    "model1.save('chest_1.h5')"
   ]
  },
  {
   "cell_type": "markdown",
   "metadata": {},
   "source": [
    "#### Plot training and validation loss\n",
    "Plot the training and validation loss. Does the model seem to be overfitting?\n",
    "\n",
    "Yes this model definitely seems to be overfitting based on the decreasing training loss and the even more drastically increasing validation loss. "
   ]
  },
  {
   "cell_type": "code",
   "execution_count": 24,
   "metadata": {},
   "outputs": [
    {
     "data": {
      "text/plain": [
       "<matplotlib.legend.Legend at 0x121bf6f98>"
      ]
     },
     "execution_count": 24,
     "metadata": {},
     "output_type": "execute_result"
    },
    {
     "data": {
      "image/png": "[encoded data removed]",
      "text/plain": [
       "<Figure size 432x288 with 1 Axes>"
      ]
     },
     "metadata": {
      "needs_background": "light"
     },
     "output_type": "display_data"
    }
   ],
   "source": [
    "train_acc = history.history['acc']\n",
    "val_acc = history.history['val_acc']\n",
    "train_loss = history.history['loss']\n",
    "val_loss = history.history['val_loss']\n",
    "\n",
    "plt.plot(range(1,31), train_acc, 'bo', label = 'Training Accuracy')\n",
    "plt.plot(range(1,31), val_acc, 'b', label = 'Validation Accuracy')\n",
    "plt.title('Training and validation accuracy')\n",
    "plt.xlabel('Epochs')\n",
    "plt.ylabel('Accuracy')\n",
    "plt.legend()\n",
    "\n"
   ]
  },
  {
   "cell_type": "code",
   "execution_count": 23,
   "metadata": {},
   "outputs": [
    {
     "data": {
      "text/plain": [
       "<matplotlib.legend.Legend at 0x121ae8f98>"
      ]
     },
     "execution_count": 23,
     "metadata": {},
     "output_type": "execute_result"
    },
    {
     "data": {
      "image/png": "[encoded data removed]",
      "text/plain": [
       "<Figure size 432x288 with 1 Axes>"
      ]
     },
     "metadata": {
      "needs_background": "light"
     },
     "output_type": "display_data"
    }
   ],
   "source": [
    "plt.plot(range(1,31), train_loss, 'bo', label = 'Training Loss')\n",
    "plt.plot(range(1,31), val_loss, 'b', label = 'Validation Loss')\n",
    "plt.title('Training and validation loss')\n",
    "plt.xlabel('Epochs')\n",
    "plt.ylabel('Loss')\n",
    "plt.legend()"
   ]
  },
  {
   "cell_type": "markdown",
   "metadata": {},
   "source": [
    "#### Test accuracy\n",
    "Calculate and report the test set accuracy using the code below."
   ]
  },
  {
   "cell_type": "code",
   "execution_count": 27,
   "metadata": {},
   "outputs": [
    {
     "name": "stdout",
     "output_type": "stream",
     "text": [
      "Found 595 images belonging to 7 classes.\n",
      "test acc: 0.19159664338877222\n"
     ]
    }
   ],
   "source": [
    "test_generator = test_datagen.flow_from_directory(\n",
    "                 test_dir,\n",
    "                 target_size=(150, 150),\n",
    "                 batch_size=20,\n",
    "                 class_mode='categorical')\n",
    "\n",
    "test_loss, test_acc = model1.evaluate_generator(test_generator, steps=30)\n",
    "print('test acc:', test_acc)"
   ]
  },
  {
   "cell_type": "markdown",
   "metadata": {},
   "source": [
    "### B. Using data augmentation\n",
    "Using the same architecture above, fit the CNN using data augmentation. You are free to choose the type of alterations made to the training images and the batch size (you should increase this for data augmentation). Be sure to include a `Dropout` layer before the first dense layer. Run this model for 30 epochs. Be sure to save your trained model."
   ]
  },
  {
   "cell_type": "code",
   "execution_count": 28,
   "metadata": {},
   "outputs": [
    {
     "name": "stdout",
     "output_type": "stream",
     "text": [
      "_________________________________________________________________\n",
      "Layer (type)                 Output Shape              Param #   \n",
      "=================================================================\n",
      "conv2d_7 (Conv2D)            (None, 148, 148, 32)      896       \n",
      "_________________________________________________________________\n",
      "dropout_7 (Dropout)          (None, 148, 148, 32)      0         \n",
      "_________________________________________________________________\n",
      "conv2d_8 (Conv2D)            (None, 146, 146, 8)       2312      \n",
      "_________________________________________________________________\n",
      "max_pooling2d_4 (MaxPooling2 (None, 73, 73, 8)         0         \n",
      "_________________________________________________________________\n",
      "flatten_4 (Flatten)          (None, 42632)             0         \n",
      "_________________________________________________________________\n",
      "dropout_8 (Dropout)          (None, 42632)             0         \n",
      "_________________________________________________________________\n",
      "dense_7 (Dense)              (None, 128)               5457024   \n",
      "_________________________________________________________________\n",
      "dropout_9 (Dropout)          (None, 128)               0         \n",
      "_________________________________________________________________\n",
      "dense_8 (Dense)              (None, 7)                 903       \n",
      "=================================================================\n",
      "Total params: 5,461,135\n",
      "Trainable params: 5,461,135\n",
      "Non-trainable params: 0\n",
      "_________________________________________________________________\n",
      "Found 2400 images belonging to 7 classes.\n",
      "Found 595 images belonging to 7 classes.\n",
      "Epoch 1/30\n",
      "120/120 [==============================] - 216s 2s/step - loss: 2.0555 - acc: 0.1467 - val_loss: 1.9257 - val_acc: 0.1613\n",
      "Epoch 2/30\n",
      "120/120 [==============================] - 190s 2s/step - loss: 1.9326 - acc: 0.1783 - val_loss: 1.9283 - val_acc: 0.1731\n",
      "Epoch 3/30\n",
      "120/120 [==============================] - 202s 2s/step - loss: 1.9350 - acc: 0.1846 - val_loss: 1.9354 - val_acc: 0.1613\n",
      "Epoch 4/30\n",
      "120/120 [==============================] - 179s 1s/step - loss: 1.9946 - acc: 0.1775 - val_loss: 1.9294 - val_acc: 0.1613\n",
      "Epoch 5/30\n",
      "120/120 [==============================] - 176s 1s/step - loss: 1.9249 - acc: 0.1729 - val_loss: 1.9278 - val_acc: 0.1630\n",
      "Epoch 6/30\n",
      "120/120 [==============================] - 191s 2s/step - loss: 1.9314 - acc: 0.1813 - val_loss: 1.9289 - val_acc: 0.1647\n",
      "Epoch 7/30\n",
      "120/120 [==============================] - 195s 2s/step - loss: 1.9216 - acc: 0.1908 - val_loss: 1.9389 - val_acc: 0.1496\n",
      "Epoch 8/30\n",
      "120/120 [==============================] - 177s 1s/step - loss: 1.9310 - acc: 0.1879 - val_loss: 1.9330 - val_acc: 0.1681\n",
      "Epoch 9/30\n",
      "120/120 [==============================] - 165s 1s/step - loss: 1.9204 - acc: 0.1879 - val_loss: 1.9417 - val_acc: 0.1664\n",
      "Epoch 10/30\n",
      "120/120 [==============================] - 174s 1s/step - loss: 1.9181 - acc: 0.1867 - val_loss: 1.9391 - val_acc: 0.1832\n",
      "Epoch 11/30\n",
      "120/120 [==============================] - 175s 1s/step - loss: 1.9193 - acc: 0.1829 - val_loss: 1.9725 - val_acc: 0.1563\n",
      "Epoch 12/30\n",
      "120/120 [==============================] - 171s 1s/step - loss: 1.9178 - acc: 0.2004 - val_loss: 1.9523 - val_acc: 0.1529\n",
      "Epoch 13/30\n",
      "120/120 [==============================] - 177s 1s/step - loss: 1.9160 - acc: 0.1883 - val_loss: 1.9391 - val_acc: 0.1429\n",
      "Epoch 14/30\n",
      "120/120 [==============================] - 172s 1s/step - loss: 1.9166 - acc: 0.1967 - val_loss: 1.9676 - val_acc: 0.1798\n",
      "Epoch 15/30\n",
      "120/120 [==============================] - 169s 1s/step - loss: 1.9186 - acc: 0.1938 - val_loss: 1.9333 - val_acc: 0.1849\n",
      "Epoch 16/30\n",
      "120/120 [==============================] - 168s 1s/step - loss: 1.9171 - acc: 0.1833 - val_loss: 1.9370 - val_acc: 0.1832\n",
      "Epoch 17/30\n",
      "120/120 [==============================] - 160s 1s/step - loss: 1.9298 - acc: 0.1938 - val_loss: 1.9285 - val_acc: 0.1681\n",
      "Epoch 18/30\n",
      "120/120 [==============================] - 164s 1s/step - loss: 1.9199 - acc: 0.1875 - val_loss: 1.9328 - val_acc: 0.1782\n",
      "Epoch 19/30\n",
      "120/120 [==============================] - 180s 1s/step - loss: 1.9145 - acc: 0.2042 - val_loss: 1.9825 - val_acc: 0.1681\n",
      "Epoch 20/30\n",
      "120/120 [==============================] - 166s 1s/step - loss: 1.9189 - acc: 0.1954 - val_loss: 1.9258 - val_acc: 0.1697\n",
      "Epoch 21/30\n",
      "120/120 [==============================] - 164s 1s/step - loss: 1.9169 - acc: 0.1871 - val_loss: 1.9222 - val_acc: 0.1697\n",
      "Epoch 22/30\n",
      "120/120 [==============================] - 172s 1s/step - loss: 1.9164 - acc: 0.1954 - val_loss: 1.9266 - val_acc: 0.1798\n",
      "Epoch 23/30\n",
      "120/120 [==============================] - 187s 2s/step - loss: 1.9160 - acc: 0.1950 - val_loss: 1.9295 - val_acc: 0.1630\n",
      "Epoch 24/30\n",
      "120/120 [==============================] - 167s 1s/step - loss: 1.9184 - acc: 0.1942 - val_loss: 1.9407 - val_acc: 0.1496\n",
      "Epoch 25/30\n",
      "120/120 [==============================] - 169s 1s/step - loss: 1.9158 - acc: 0.1950 - val_loss: 1.9298 - val_acc: 0.1664\n",
      "Epoch 26/30\n",
      "120/120 [==============================] - 179s 1s/step - loss: 1.9173 - acc: 0.1892 - val_loss: 1.9286 - val_acc: 0.1647\n",
      "Epoch 27/30\n",
      "120/120 [==============================] - 184s 2s/step - loss: 1.9169 - acc: 0.2063 - val_loss: 1.9388 - val_acc: 0.1546\n",
      "Epoch 28/30\n",
      "120/120 [==============================] - 176s 1s/step - loss: 1.9140 - acc: 0.1879 - val_loss: 1.9283 - val_acc: 0.1748\n",
      "Epoch 29/30\n",
      "120/120 [==============================] - 171s 1s/step - loss: 1.9172 - acc: 0.1929 - val_loss: 1.9327 - val_acc: 0.1647\n",
      "Epoch 30/30\n",
      "120/120 [==============================] - 156s 1s/step - loss: 1.9133 - acc: 0.1904 - val_loss: 1.9350 - val_acc: 0.1647\n"
     ]
    }
   ],
   "source": [
    "# new model\n",
    "nb_epoch = 30\n",
    "batch_size = 32\n",
    "model1 = models.Sequential()\n",
    "model1.add(layers.Convolution2D(32, 3, 3, input_shape=(150, 150, 3), activation='relu'))\n",
    "model1.add(layers.Dropout(0.2))\n",
    "model1.add(layers.Convolution2D(8, 3, 3, activation='relu'))\n",
    "model1.add(layers.MaxPooling2D(pool_size=(2, 2)))\n",
    "model1.add(layers.Flatten())\n",
    "model1.add(layers.Dropout(0.2))\n",
    "model1.add(layers.Dense(128, activation='relu'))\n",
    "model1.add(layers.Dropout(0.5))\n",
    "model1.add(layers.Dense(7, activation='softmax'))\n",
    "# Compile model\n",
    "model1.compile(loss='categorical_crossentropy', optimizer=keras.optimizers.rmsprop(), metrics=['accuracy'])\n",
    "model1.summary()\n",
    "\n",
    "# Structure from the class notes: Lecture 5_6, slide 21\n",
    "# tweaked values slightly \n",
    "train_datagen = ImageDataGenerator(rescale = 1./255,\n",
    "                                  rotation_range=60,\n",
    "                                  width_shift_range=0.3,\n",
    "                                   height_shift_range=0.3,\n",
    "                                   shear_range=0.3,\n",
    "                                   zoom_range=0.3,\n",
    "                                   horizontal_flip=True,)\n",
    "\n",
    "test_datagen = ImageDataGenerator(rescale=1./255)\n",
    "\n",
    "# Creating the training generator\n",
    "train_generator = train_datagen.flow_from_directory(train_dir,\n",
    "                                                   target_size = (150,150),\n",
    "                                                   batch_size = 20,\n",
    "                                                   class_mode = 'categorical')\n",
    "# Creating the validation generator\n",
    "validation_generator = test_datagen.flow_from_directory(validation_dir,\n",
    "                                                       target_size = (150,150),\n",
    "                                                       batch_size = 20,\n",
    "                                                       class_mode = 'categorical')\n",
    "\n",
    "history = model1.fit_generator(train_generator,\n",
    "                             steps_per_epoch = 120,\n",
    "                             epochs = 30,\n",
    "                             validation_data = validation_generator,\n",
    "                             validation_steps = 30)"
   ]
  },
  {
   "cell_type": "code",
   "execution_count": 29,
   "metadata": {},
   "outputs": [],
   "source": [
    "# Save your model\n",
    "model1.save('chest_2.h5')"
   ]
  },
  {
   "cell_type": "markdown",
   "metadata": {},
   "source": [
    "#### Plot training and validation loss\n",
    "Plot the training and validation loss. Does the model seem to be overfitting?\n",
    "\n",
    "No it does not appear to be overfitting as both the training and validation sets produce similar results."
   ]
  },
  {
   "cell_type": "code",
   "execution_count": 31,
   "metadata": {},
   "outputs": [
    {
     "data": {
      "text/plain": [
       "<matplotlib.legend.Legend at 0xb3682bef0>"
      ]
     },
     "execution_count": 31,
     "metadata": {},
     "output_type": "execute_result"
    },
    {
     "data": {
      "image/png": "[encoded data removed]",
      "text/plain": [
       "<Figure size 432x288 with 1 Axes>"
      ]
     },
     "metadata": {
      "needs_background": "light"
     },
     "output_type": "display_data"
    }
   ],
   "source": [
    "train_acc = history.history['acc']\n",
    "val_acc = history.history['val_acc']\n",
    "train_loss = history.history['loss']\n",
    "val_loss = history.history['val_loss']\n",
    "\n",
    "plt.plot(range(1,31), train_acc, 'bo', label = 'Training Accuracy')\n",
    "plt.plot(range(1,31), val_acc, 'b', label = 'Validation Accuracy')\n",
    "plt.title('Training and validation accuracy')\n",
    "plt.xlabel('Epochs')\n",
    "plt.ylabel('Accuracy')\n",
    "plt.legend()\n"
   ]
  },
  {
   "cell_type": "code",
   "execution_count": 32,
   "metadata": {},
   "outputs": [
    {
     "data": {
      "text/plain": [
       "<matplotlib.legend.Legend at 0x1219dd9e8>"
      ]
     },
     "execution_count": 32,
     "metadata": {},
     "output_type": "execute_result"
    },
    {
     "data": {
      "image/png": "[encoded data removed]",
      "text/plain": [
       "<Figure size 432x288 with 1 Axes>"
      ]
     },
     "metadata": {
      "needs_background": "light"
     },
     "output_type": "display_data"
    }
   ],
   "source": [
    "\n",
    "plt.plot(range(1,31), train_loss, 'bo', label = 'Training Loss')\n",
    "plt.plot(range(1,31), val_loss, 'b', label = 'Validation Loss')\n",
    "plt.title('Training and validation loss')\n",
    "plt.xlabel('Epochs')\n",
    "plt.ylabel('Loss')\n",
    "plt.legend()"
   ]
  },
  {
   "cell_type": "markdown",
   "metadata": {},
   "source": [
    "#### Test accuracy\n",
    "Calculate and report the test set accuracy."
   ]
  },
  {
   "cell_type": "code",
   "execution_count": 34,
   "metadata": {},
   "outputs": [
    {
     "name": "stdout",
     "output_type": "stream",
     "text": [
      "Found 595 images belonging to 7 classes.\n",
      "test acc: 0.1529411786243695\n"
     ]
    }
   ],
   "source": [
    "test_generator = test_datagen.flow_from_directory(\n",
    "                 test_dir,\n",
    "                 target_size=(150, 150),\n",
    "                 batch_size=20,\n",
    "                 class_mode='categorical')\n",
    "\n",
    "test_loss, test_acc = model1.evaluate_generator(test_generator, steps=30)\n",
    "print('test acc:', test_acc)"
   ]
  },
  {
   "cell_type": "markdown",
   "metadata": {},
   "source": [
    "### C. Using a pre-trained CNN without data augmentation\n",
    "\n",
    "Use one of the pre-trained models in Keras that has been trained using the Imagenet data set as a convolutional base. Extract features by running your training set through the base. "
   ]
  },
  {
   "cell_type": "code",
   "execution_count": 38,
   "metadata": {},
   "outputs": [
    {
     "name": "stdout",
     "output_type": "stream",
     "text": [
      "Found 2400 images belonging to 7 classes.\n",
      "Found 595 images belonging to 7 classes.\n",
      "Found 595 images belonging to 7 classes.\n"
     ]
    }
   ],
   "source": [
    "from keras.applications import VGG16\n",
    "\n",
    "conv_base = VGG16(weights='imagenet',\n",
    "                  include_top=False,\n",
    "                 input_shape=(150,150,3))\n",
    "\n",
    "import os\n",
    "import numpy as np\n",
    "from keras.preprocessing.image import ImageDataGenerator\n",
    "\n",
    "datagen = ImageDataGenerator(rescale=1./255)\n",
    "batch_size = 5\n",
    "\n",
    "def extract_features(directory, sample_count):\n",
    "    features = np.zeros(shape=(sample_count, 4,4,512))\n",
    "    labels = np.zeros(shape=(sample_count, 7))\n",
    "    generator = datagen.flow_from_directory(\n",
    "        directory,\n",
    "        target_size=(150,150),\n",
    "        batch_size=batch_size,\n",
    "        class_mode='categorical')\n",
    "    i=0\n",
    "    for inputs_batch, labels_batch in generator:\n",
    "        features_batch = conv_base.predict(inputs_batch)\n",
    "        features[i*batch_size : (i+1)*batch_size] = features_batch\n",
    "        labels[i*batch_size : (i+1)*batch_size] = labels_batch\n",
    "        i+=1\n",
    "        if i*batch_size >= sample_count :\n",
    "            break\n",
    "    return features, labels\n",
    "\n",
    "train_features, train_labels = extract_features(train_dir, 2400)\n",
    "validation_features, validation_labels = extract_features(validation_dir, 595)\n",
    "test_features, test_labels = extract_features(test_dir, 595)\n",
    "\n",
    "train_features = np.reshape(train_features, (2400, 4*4*512))\n",
    "validation_features = np.reshape(validation_features, (595, 4*4*512))\n",
    "test_features = np.reshape(test_features, (595, 4*4*512))\n",
    "\n"
   ]
  },
  {
   "cell_type": "markdown",
   "metadata": {},
   "source": [
    "Take this output and train a classifier. You may use the classifier from previous parts of this question."
   ]
  },
  {
   "cell_type": "code",
   "execution_count": 41,
   "metadata": {
    "scrolled": true
   },
   "outputs": [
    {
     "name": "stdout",
     "output_type": "stream",
     "text": [
      "Train on 2400 samples, validate on 595 samples\n",
      "Epoch 1/30\n",
      "2400/2400 [==============================] - 3s 1ms/step - loss: 1.9837 - acc: 0.1908 - val_loss: 1.9019 - val_acc: 0.2101\n",
      "Epoch 2/30\n",
      "2400/2400 [==============================] - 2s 948us/step - loss: 1.8730 - acc: 0.2446 - val_loss: 1.8759 - val_acc: 0.2319\n",
      "Epoch 3/30\n",
      "2400/2400 [==============================] - 2s 908us/step - loss: 1.8254 - acc: 0.2838 - val_loss: 1.8578 - val_acc: 0.2319\n",
      "Epoch 4/30\n",
      "2400/2400 [==============================] - 2s 911us/step - loss: 1.7865 - acc: 0.2954 - val_loss: 1.8549 - val_acc: 0.2437\n",
      "Epoch 5/30\n",
      "2400/2400 [==============================] - 3s 1ms/step - loss: 1.7508 - acc: 0.3196 - val_loss: 1.8439 - val_acc: 0.2555\n",
      "Epoch 6/30\n",
      "2400/2400 [==============================] - 2s 925us/step - loss: 1.7196 - acc: 0.3400 - val_loss: 1.8403 - val_acc: 0.2504\n",
      "Epoch 7/30\n",
      "2400/2400 [==============================] - 2s 936us/step - loss: 1.7080 - acc: 0.3463 - val_loss: 1.8304 - val_acc: 0.2571\n",
      "Epoch 8/30\n",
      "2400/2400 [==============================] - 2s 1ms/step - loss: 1.6936 - acc: 0.3550 - val_loss: 1.8348 - val_acc: 0.2521\n",
      "Epoch 9/30\n",
      "2400/2400 [==============================] - 2s 975us/step - loss: 1.6729 - acc: 0.3633 - val_loss: 1.8324 - val_acc: 0.2588\n",
      "Epoch 10/30\n",
      "2400/2400 [==============================] - 2s 963us/step - loss: 1.6597 - acc: 0.3708 - val_loss: 1.8363 - val_acc: 0.2672\n",
      "Epoch 11/30\n",
      "2400/2400 [==============================] - 2s 940us/step - loss: 1.6467 - acc: 0.3854 - val_loss: 1.8350 - val_acc: 0.2555\n",
      "Epoch 12/30\n",
      "2400/2400 [==============================] - 2s 963us/step - loss: 1.6196 - acc: 0.3942 - val_loss: 1.8326 - val_acc: 0.2655\n",
      "Epoch 13/30\n",
      "2400/2400 [==============================] - 2s 960us/step - loss: 1.6054 - acc: 0.3838 - val_loss: 1.8277 - val_acc: 0.2723\n",
      "Epoch 14/30\n",
      "2400/2400 [==============================] - 2s 939us/step - loss: 1.6091 - acc: 0.3988 - val_loss: 1.8279 - val_acc: 0.2723\n",
      "Epoch 15/30\n",
      "2400/2400 [==============================] - 2s 941us/step - loss: 1.5858 - acc: 0.4175 - val_loss: 1.8293 - val_acc: 0.2588\n",
      "Epoch 16/30\n",
      "2400/2400 [==============================] - 2s 999us/step - loss: 1.5773 - acc: 0.4079 - val_loss: 1.8338 - val_acc: 0.2773\n",
      "Epoch 17/30\n",
      "2400/2400 [==============================] - 2s 960us/step - loss: 1.5709 - acc: 0.4079 - val_loss: 1.8292 - val_acc: 0.2622\n",
      "Epoch 18/30\n",
      "2400/2400 [==============================] - 3s 1ms/step - loss: 1.5665 - acc: 0.4183 - val_loss: 1.8312 - val_acc: 0.2756\n",
      "Epoch 19/30\n",
      "2400/2400 [==============================] - 3s 1ms/step - loss: 1.5610 - acc: 0.4221 - val_loss: 1.8306 - val_acc: 0.2672\n",
      "Epoch 20/30\n",
      "2400/2400 [==============================] - 2s 959us/step - loss: 1.5589 - acc: 0.4221 - val_loss: 1.8273 - val_acc: 0.2605\n",
      "Epoch 21/30\n",
      "2400/2400 [==============================] - 2s 951us/step - loss: 1.5369 - acc: 0.4387 - val_loss: 1.8258 - val_acc: 0.2807\n",
      "Epoch 22/30\n",
      "2400/2400 [==============================] - 2s 976us/step - loss: 1.5241 - acc: 0.4296 - val_loss: 1.8316 - val_acc: 0.2857\n",
      "Epoch 23/30\n",
      "2400/2400 [==============================] - 2s 1ms/step - loss: 1.5186 - acc: 0.4346 - val_loss: 1.8252 - val_acc: 0.2790\n",
      "Epoch 24/30\n",
      "2400/2400 [==============================] - 3s 1ms/step - loss: 1.5162 - acc: 0.4496 - val_loss: 1.8282 - val_acc: 0.2924\n",
      "Epoch 25/30\n",
      "2400/2400 [==============================] - 3s 1ms/step - loss: 1.5062 - acc: 0.4475 - val_loss: 1.8282 - val_acc: 0.2504\n",
      "Epoch 26/30\n",
      "2400/2400 [==============================] - 2s 1ms/step - loss: 1.4876 - acc: 0.4525 - val_loss: 1.8202 - val_acc: 0.2824\n",
      "Epoch 27/30\n",
      "2400/2400 [==============================] - 2s 1ms/step - loss: 1.4861 - acc: 0.4554 - val_loss: 1.8244 - val_acc: 0.2857\n",
      "Epoch 28/30\n",
      "2400/2400 [==============================] - 2s 1ms/step - loss: 1.4694 - acc: 0.4688 - val_loss: 1.8269 - val_acc: 0.2840\n",
      "Epoch 29/30\n",
      "2400/2400 [==============================] - 2s 1ms/step - loss: 1.4559 - acc: 0.4696 - val_loss: 1.8285 - val_acc: 0.2857\n",
      "Epoch 30/30\n",
      "2400/2400 [==============================] - 3s 1ms/step - loss: 1.4555 - acc: 0.4800 - val_loss: 1.8273 - val_acc: 0.2790\n"
     ]
    }
   ],
   "source": [
    "model = models.Sequential()\n",
    "model.add(layers.Dense(128, activation='relu', input_dim=4*4*512))\n",
    "model.add(layers.Dropout(0.5))\n",
    "model.add(layers.Dense(7, activation='softmax'))\n",
    "\n",
    "model.compile(loss='categorical_crossentropy', \n",
    "               optimizer=optimizers.RMSprop(lr=2e-5), \n",
    "               metrics=['accuracy'])\n",
    "\n",
    "history = model.fit(train_features, train_labels,\n",
    "                   epochs=30,\n",
    "                   batch_size=20,\n",
    "                   validation_data=(validation_features,validation_labels))"
   ]
  },
  {
   "cell_type": "code",
   "execution_count": 42,
   "metadata": {},
   "outputs": [],
   "source": [
    "# Save your model\n",
    "model.save('chest_3.h5')"
   ]
  },
  {
   "cell_type": "markdown",
   "metadata": {},
   "source": [
    "#### Plot training and validation loss\n",
    "Plot the training and validation loss. Does the model seem to be overfitting?\n",
    "\n",
    "The model seems to be slightly overfitting but not nearly as poorly as the first model. The validation and training loss are reasonably close, however, the accuracy difference indicates potential overfitting."
   ]
  },
  {
   "cell_type": "code",
   "execution_count": 44,
   "metadata": {},
   "outputs": [
    {
     "data": {
      "text/plain": [
       "<matplotlib.legend.Legend at 0xb3a2e7828>"
      ]
     },
     "execution_count": 44,
     "metadata": {},
     "output_type": "execute_result"
    },
    {
     "data": {
      "image/png": "[encoded data removed]",
      "text/plain": [
       "<Figure size 432x288 with 1 Axes>"
      ]
     },
     "metadata": {
      "needs_background": "light"
     },
     "output_type": "display_data"
    }
   ],
   "source": [
    "train_acc = history.history['acc']\n",
    "val_acc = history.history['val_acc']\n",
    "train_loss = history.history['loss']\n",
    "val_loss = history.history['val_loss']\n",
    "\n",
    "# accuracy plot\n",
    "plt.plot(range(1,31), train_acc, 'bo', label = 'Training Accuracy')\n",
    "plt.plot(range(1,31), val_acc, 'b', label = 'Validation Accuracy')\n",
    "plt.title('Training and validation accuracy')\n",
    "plt.xlabel('Epochs')\n",
    "plt.ylabel('Accuracy')\n",
    "plt.legend()\n"
   ]
  },
  {
   "cell_type": "code",
   "execution_count": 45,
   "metadata": {},
   "outputs": [
    {
     "data": {
      "text/plain": [
       "<matplotlib.legend.Legend at 0xb3a3b8dd8>"
      ]
     },
     "execution_count": 45,
     "metadata": {},
     "output_type": "execute_result"
    },
    {
     "data": {
      "image/png": "[encoded data removed]",
      "text/plain": [
       "<Figure size 432x288 with 1 Axes>"
      ]
     },
     "metadata": {
      "needs_background": "light"
     },
     "output_type": "display_data"
    }
   ],
   "source": [
    "# Loss plot\n",
    "plt.plot(range(1,31), train_loss, 'bo', label = 'Training Loss')\n",
    "plt.plot(range(1,31), val_loss, 'b', label = 'Validation Loss')\n",
    "plt.title('Training and validation loss')\n",
    "plt.xlabel('Epochs')\n",
    "plt.ylabel('Loss')\n",
    "plt.legend()"
   ]
  },
  {
   "cell_type": "markdown",
   "metadata": {},
   "source": [
    "#### Test accuracy\n",
    "Calculate and report the test set accuracy."
   ]
  },
  {
   "cell_type": "code",
   "execution_count": 61,
   "metadata": {},
   "outputs": [
    {
     "name": "stdout",
     "output_type": "stream",
     "text": [
      "595/595 [==============================] - 0s 154us/step\n",
      "0.29915966346484274\n"
     ]
    }
   ],
   "source": [
    "test_acc = model.evaluate(test_features,test_labels)[1]\n",
    "print(test_acc)"
   ]
  },
  {
   "cell_type": "markdown",
   "metadata": {},
   "source": [
    "### D. Summarize results\n",
    "Summarize the results from the 3 models you built. Which model would you choose to make future predictions?\n",
    "\n",
    "The first model seems to overfit the data, resulting in a very high train accuracy and low loss but ending up with a drastically low validation accuracy and high loss. The resulting test accuracy was around 19%.\n",
    "\n",
    "The second model does not appear to overfit the data, however, the results are very poor in terms of accuracy. This was confirmed by the test accuracy being around 15%, so worse than the first model.\n",
    "\n",
    "The third model appears to have less overfitting than the first model but much more than the second. Again, though we do not see a strong accuracy of this model. However, it appears to be the best model as it yields a test accuracy around 30%, thus I would choose to use this model for future prediction (if I have to choose, as I would likely not use any since the results are so poor)."
   ]
  },
  {
   "cell_type": "markdown",
   "metadata": {},
   "source": [
    "### E. **Optional**: Data augmentation with pre-trained CNN\n",
    "If you would like to try cloud computing, you can build a CNN and use data augmentation along with a pre-trained network for classification. **You will need to use Google Cloud Platform to train this model**. Please follow the instructions on how to set up access to GPUs and run code from a Jupyter notebook. These instructions can be found on canvas and the course GitHub repository. Be sure to save your trained model.\n",
    "\n",
    "If you choose to do this, you will get 20 extra credit homework points. Homework #3 is worth 25 points, so you wouldn't have to do much work on that assignment to get all of your homework credits."
   ]
  },
  {
   "cell_type": "code",
   "execution_count": null,
   "metadata": {},
   "outputs": [],
   "source": [
    "from keras import models\n",
    "from keras import layers\n",
    "from keras.preprocessing.image import ImageDataGenerator\n",
    "\n",
    "model = models.Sequential()\n",
    "model.add(conv_base)\n",
    "model.add(layers.Flatten())\n",
    "model.add(layers.Dense(256, activation='relu'))\n",
    "model.add(layers.Dense(7, activation='softmax'))\n",
    "model.summary()\n",
    "\n",
    "train_datagen = ImageDataGenerator(rescale = 1./255,\n",
    "                                  rotation_range=60,\n",
    "                                  width_shift_range=0.3,\n",
    "                                   height_shift_range=0.3,\n",
    "                                   shear_range=0.3,\n",
    "                                   zoom_range=0.3,\n",
    "                                   horizontal_flip=True,\n",
    "                                  fill_mode=\"nearest\")\n",
    "\n",
    "test_datagen = ImageDataGenerator(rescale=1./255)\n",
    "\n",
    "# Creating the training generator\n",
    "train_generator = train_datagen.flow_from_directory(train_dir,\n",
    "                                                   target_size = (150,150),\n",
    "                                                   batch_size = 20,\n",
    "                                                   class_mode = 'categorical')\n",
    "# Creating the validation generator\n",
    "validation_generator = test_datagen.flow_from_directory(validation_dir,\n",
    "                                                       target_size = (150,150),\n",
    "                                                       batch_size = 20,\n",
    "                                                       class_mode = 'categorical')\n",
    "\n",
    "\n",
    "\n",
    "model.compile(loss='categorical_crossentropy', optimizer=optimizers.RMSprop(lr=2e-5), metrics=['accuracy'])\n",
    "\n",
    "history = model1.fit_generator(train_generator,\n",
    "                             steps_per_epoch = 120,\n",
    "                             epochs = 30,\n",
    "                             validation_data = validation_generator,\n",
    "                             validation_steps = 30,\n",
    "                             verbose=2)"
   ]
  },
  {
   "cell_type": "code",
   "execution_count": null,
   "metadata": {},
   "outputs": [],
   "source": [
    "# Save your model\n",
    "model.save('chest_4.h5')"
   ]
  },
  {
   "cell_type": "markdown",
   "metadata": {},
   "source": [
    "#### Plot training and validation loss\n",
    "Plot the training and validation loss. Does the model seem to be overfitting?\n",
    "\n",
    "Based on the partial results given, it does not appear that the model is overfitting at this point. Although the trends could easily continue to show a large separation for the remaining 13 epochs but at this point the model does not seem to be overfit. However, it is worth noting that the accuracy still has not really improved, seeing a peak of approximately 29% training accuracy and around 25% for the validation set, so far. Unless there were to be a drastic change and an incredible response by the testing set, there is no clear indication so far that this model will have a much higher accuracy or lower loss than any of the previous models."
   ]
  },
  {
   "cell_type": "code",
   "execution_count": null,
   "metadata": {},
   "outputs": [],
   "source": [
    "train_acc = history.history['acc']\n",
    "val_acc = history.history['val_acc']\n",
    "train_loss = history.history['loss']\n",
    "val_loss = history.history['val_loss']\n",
    "\n",
    "plt.plot(epochs, train_acc, 'bo', label = 'Training Accuracy')\n",
    "plt.plot(epochs, val_acc, 'b', label = 'Validation Accuracy')\n",
    "plt.title('Training and validation accuracy')\n",
    "plt.xlabel('Epochs')\n",
    "plt.ylabel('Accuracy')\n",
    "plt.legend()\n",
    "\n",
    "\n",
    "plt.plot(epochs, train_loss, 'bo', label = 'Training Loss')\n",
    "plt.plot(epochs, val_loss, 'b', label = 'Validation Loss')\n",
    "plt.title('Training and validation loss')\n",
    "plt.xlabel('Epochs')\n",
    "plt.ylabel('Loss')\n",
    "plt.legend()"
   ]
  },
  {
   "cell_type": "code",
   "execution_count": 63,
   "metadata": {},
   "outputs": [
    {
     "data": {
      "text/plain": [
       "<matplotlib.legend.Legend at 0xb2df52160>"
      ]
     },
     "execution_count": 63,
     "metadata": {},
     "output_type": "execute_result"
    },
    {
     "data": {
      "image/png": "[encoded data removed]",
      "text/plain": [
       "<Figure size 432x288 with 1 Axes>"
      ]
     },
     "metadata": {
      "needs_background": "light"
     },
     "output_type": "display_data"
    }
   ],
   "source": [
    "# Although my model crashed after about 24 hours I was still able to recover 17 epochs worth of information\n",
    "# Thus I can plot the first 17 epochs to get an idea of how the model was performing\n",
    "\n",
    "train_acc = [0.1867,0.2046,0.2204,0.2392,0.2413,0.2588,0.2554,0.2533,0.2642,0.2604,0.2721,0.2863,0.2738,0.2788,0.2721,0.2854,0.2871]\n",
    "val_acc = [0.2034,0.2050,0.1882,0.2202,0.2185,0.2218,0.2118,0.2336,0.2050,0.2420,0.2067,0.2420,0.2353,0.2218,0.2353,0.2538,0.22252]\n",
    "train_loss = [1.9408,1.9066,1.9020,1.8760,1.8715,1.8522,1.8340,1.8402,1.8237,1.8295,1.8177,1.8048,1.8110,1.7953,1.7934,1.7918,1.7905]\n",
    "val_loss = [1.8786,1.9163,1.9516,1.9021,1.9813,1.8931,1.9369,1.8783,1.9680,2.0194,1.9327,2.0483,1.9139,1.9387,1.9646,1.9308,1.8998]\n",
    "\n",
    "plt.plot(range(1,18), train_acc, 'bo', label = 'Training Accuracy')\n",
    "plt.plot(range(1,18), val_acc, 'b', label = 'Validation Accuracy')\n",
    "plt.title('Training and validation accuracy')\n",
    "plt.xlabel('Epochs')\n",
    "plt.ylabel('Accuracy')\n",
    "plt.legend()\n",
    "\n"
   ]
  },
  {
   "cell_type": "code",
   "execution_count": 64,
   "metadata": {},
   "outputs": [
    {
     "data": {
      "text/plain": [
       "<matplotlib.legend.Legend at 0xb2e050be0>"
      ]
     },
     "execution_count": 64,
     "metadata": {},
     "output_type": "execute_result"
    },
    {
     "data": {
      "image/png": "[encoded data removed]",
      "text/plain": [
       "<Figure size 432x288 with 1 Axes>"
      ]
     },
     "metadata": {
      "needs_background": "light"
     },
     "output_type": "display_data"
    }
   ],
   "source": [
    "\n",
    "plt.plot(range(1,18), train_loss, 'bo', label = 'Training Loss')\n",
    "plt.plot(range(1,18), val_loss, 'b', label = 'Validation Loss')\n",
    "plt.title('Training and validation loss')\n",
    "plt.xlabel('Epochs')\n",
    "plt.ylabel('Loss')\n",
    "plt.legend()"
   ]
  },
  {
   "cell_type": "markdown",
   "metadata": {},
   "source": [
    "#### Test accuracy\n",
    "Calculate and report the test set accuracy."
   ]
  },
  {
   "cell_type": "code",
   "execution_count": null,
   "metadata": {},
   "outputs": [],
   "source": [
    "test_generator = test_datagen.flow_from_directory(\n",
    "                 test_dir,\n",
    "                 target_size=(150, 150),\n",
    "                 batch_size=20,\n",
    "                 class_mode='categorical')\n",
    "\n",
    "test_loss, test_acc = model.evaluate_generator(test_generator, steps=30)\n",
    "print('test acc:', test_acc)"
   ]
  }
 ],
 "metadata": {
  "kernelspec": {
   "display_name": "Python 3",
   "language": "python",
   "name": "python3"
  },
  "language_info": {
   "codemirror_mode": {
    "name": "ipython",
    "version": 3
   },
   "file_extension": ".py",
   "mimetype": "text/x-python",
   "name": "python",
   "nbconvert_exporter": "python",
   "pygments_lexer": "ipython3",
   "version": "3.7.1"
  }
 },
 "nbformat": 4,
 "nbformat_minor": 2
}
